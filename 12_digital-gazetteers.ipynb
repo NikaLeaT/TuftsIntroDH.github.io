{
 "cells": [
  {
   "cell_type": "markdown",
   "metadata": {},
   "source": [
    "---\n",
    "title: Digital Gazetteers\n",
    "author:\n",
    "  - name: Charles Pletcher\n",
    "    affiliations: Tufts University\n",
    "    orcid: 0000-0003-2734-5511\n",
    "    email: charles.pletcher@tufts.edu\n",
    "license:\n",
    "  code: MIT\n",
    "date: 2025-04-12\n",
    "---\n",
    "\n",
    "# Digital Gazetteers\n",
    "\n",
    "For this lesson, we'll follow the tutorial on _Programming Historian_ at https://programminghistorian.org/en/lessons/space-place-gazetteers."
   ]
  }
 ],
 "metadata": {
  "language_info": {
   "name": "python"
  }
 },
 "nbformat": 4,
 "nbformat_minor": 2
}
